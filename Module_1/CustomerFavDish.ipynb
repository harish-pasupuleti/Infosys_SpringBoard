{
 "cells": [
  {
   "cell_type": "code",
   "execution_count": 2,
   "id": "0682e190",
   "metadata": {
    "scrolled": false
   },
   "outputs": [],
   "source": [
    "from pymongo import MongoClient\n",
    "import pandas as pd\n"
   ]
  },
  {
   "cell_type": "code",
   "execution_count": 8,
   "id": "a9b41226",
   "metadata": {},
   "outputs": [],
   "source": [
    "client = MongoClient(\"mongodb+srv://harishpasupuleti\")\n",
    "\n",
    "db = client[\"hotel_guests\"]"
   ]
  },
  {
   "cell_type": "code",
   "execution_count": 9,
   "id": "c90a4b13",
   "metadata": {},
   "outputs": [
    {
     "name": "stdout",
     "output_type": "stream",
     "text": [
      "['dinning_info', 'admin', 'local']\n",
      "[]\n"
     ]
    }
   ],
   "source": [
    "print(client.list_database_names()) \n",
    "print(db.list_collection_names())   "
   ]
  },
  {
   "cell_type": "code",
   "execution_count": 11,
   "id": "e14e7315",
   "metadata": {
    "scrolled": true
   },
   "outputs": [
    {
     "name": "stdout",
     "output_type": "stream",
     "text": [
      "['customer_preferences']\n"
     ]
    }
   ],
   "source": [
    "db = client[\"dinning_info\"]\n",
    "print(db.list_collection_names())"
   ]
  },
  {
   "cell_type": "code",
   "execution_count": 86,
   "id": "116804e6",
   "metadata": {},
   "outputs": [
    {
     "name": "stdout",
     "output_type": "stream",
     "text": [
      "                        _id     transaction_id  customer_id Preferred Cusine  \\\n",
      "0  67b1745acca2f0b83f058947  0         3594217           91     South Indian   \n",
      "1  67b1745acca2f0b83f058948  1        10163344           92     South Indian   \n",
      "2  67b1745acca2f0b83f058949  2        12292432           93     North Indian   \n",
      "3  67b1745acca2f0b83f05894a  3        13757710           94     South Indian   \n",
      "4  67b1745acca2f0b83f05894b  4        10762656           95     North Indian   \n",
      "\n",
      "   age             dish  Qty  price_for_1  number_of_stayers  \\\n",
      "0   31    Filter Coffee    2           80                  1   \n",
      "1   21   Chocolate Cake    2          200                  2   \n",
      "2   48  Breakfast thali    1          500                  2   \n",
      "3   25       Roti Curry    3          100                  3   \n",
      "4   22    Filter Coffee    1           80                  1   \n",
      "\n",
      "         check_in_date       check_out_date           order_time  \\\n",
      "0  2023-08-07 00:00:00  2023-08-10 18:33:11  2023-08-09 03:40:45   \n",
      "1  2023-08-08 00:00:00  2023-08-10 04:10:06  2023-08-08 19:20:37   \n",
      "2  2023-11-15 00:00:00  2023-11-17 08:21:37  2023-11-15 14:01:51   \n",
      "3  2024-03-31 00:00:00  2024-04-03 09:35:00  2024-03-31 11:17:37   \n",
      "4  2024-04-08 00:00:00  2024-04-11 02:22:57  2024-04-10 23:00:56   \n",
      "\n",
      "   booked_through_points  \n",
      "0                      0  \n",
      "1                      0  \n",
      "2                      1  \n",
      "3                      0  \n",
      "4                      0  \n"
     ]
    }
   ],
   "source": [
    "db = client[\"dinning_info\"]\n",
    "collection = db[\"customer_preferences\"]  \n",
    "\n",
    "df_from_mongo = pd.DataFrame(list(collection.find()))\n",
    "print(df_from_mongo.head())  "
   ]
  },
  {
   "cell_type": "code",
   "execution_count": 87,
   "id": "829bd185",
   "metadata": {},
   "outputs": [],
   "source": [
    "df = df_from_mongo.copy()"
   ]
  },
  {
   "cell_type": "markdown",
   "id": "b159703c",
   "metadata": {},
   "source": [
    "# Convert to date-time format"
   ]
  },
  {
   "cell_type": "code",
   "execution_count": 88,
   "id": "465acd23",
   "metadata": {},
   "outputs": [],
   "source": [
    "df['check_in_date'] = pd.to_datetime(df['check_in_date'])\n",
    "df['check_out_date'] = pd.to_datetime(df['check_out_date'])\n",
    "df['order_time'] = pd.to_datetime(df['order_time'])"
   ]
  },
  {
   "cell_type": "markdown",
   "id": "435a9fd4",
   "metadata": {},
   "source": [
    "# extract day, month, week etc from check_in and check_out dates"
   ]
  },
  {
   "cell_type": "code",
   "execution_count": 89,
   "id": "9df47133",
   "metadata": {},
   "outputs": [],
   "source": [
    "df['check_in_day'] = df['check_in_date'].dt.dayofweek  # Monday=0, Sunday=6\n",
    "df['check_out_day'] = df['check_out_date'].dt.dayofweek\n",
    "df['check_in_month'] = df['check_in_date'].dt.month\n",
    "df['check_out_month'] = df['check_out_date'].dt.month\n",
    "df['stay_duration'] = (df['check_out_date'] - df['check_in_date']).dt.days"
   ]
  },
  {
   "cell_type": "code",
   "execution_count": 90,
   "id": "0acdbfc2",
   "metadata": {},
   "outputs": [],
   "source": [
    "features_df = df[df['order_time'] < '2024-01-01']\n",
    "train_df = df[(df['order_time'] >= '2024-01-01') & (df['order_time'] <= '2024-10-01')]\n",
    "test_df = df[df['order_time'] > '2024-10-01']"
   ]
  },
  {
   "cell_type": "code",
   "execution_count": 91,
   "id": "a6af2ba2",
   "metadata": {},
   "outputs": [],
   "source": [
    "cust_features = features_df.groupby(\"customer_id\").agg(\n",
    "    total_orders_per_customer=(\"transaction_id\", \"count\"),\n",
    "    avg_spend_per_customer=(\"price_for_1\", \"mean\"),\n",
    "    total_qty_per_customer=(\"Qty\", \"sum\")\n",
    ").reset_index()\n",
    "\n",
    "# Feature Engineering (Cuisine-Level)\n",
    "cuisine_features = features_df.groupby(\"Preferred Cusine\").agg(\n",
    "    avg_price_per_cuisine=(\"price_for_1\", \"mean\"),\n",
    "    total_orders_per_cuisine=(\"transaction_id\", \"count\")\n",
    ").reset_index()\n",
    "\n",
    "# Get most frequent cuisine & dish per customer\n",
    "customer_dish = features_df.groupby('customer_id')['dish'].agg(lambda x: x.mode()[0]).reset_index()\n",
    "# Create atleast 1 more similar feature to the above\n",
    "\n",
    "\n",
    "# Most popular dish per cuisine\n",
    "cuisine_popular_dish = features_df.groupby('Preferred Cusine')['dish'].agg(lambda x: x.mode()[0]).reset_index()\n",
    "# Create one more similar feature\n",
    "cuisine_popular_dish = cuisine_popular_dish.rename({'dish':'popular_dish_for_this_cuisine'},axis=1)"
   ]
  },
  {
   "cell_type": "code",
   "execution_count": 92,
   "id": "91471f6c",
   "metadata": {},
   "outputs": [
    {
     "data": {
      "text/html": [
       "<div>\n",
       "<style scoped>\n",
       "    .dataframe tbody tr th:only-of-type {\n",
       "        vertical-align: middle;\n",
       "    }\n",
       "\n",
       "    .dataframe tbody tr th {\n",
       "        vertical-align: top;\n",
       "    }\n",
       "\n",
       "    .dataframe thead th {\n",
       "        text-align: right;\n",
       "    }\n",
       "</style>\n",
       "<table border=\"1\" class=\"dataframe\">\n",
       "  <thead>\n",
       "    <tr style=\"text-align: right;\">\n",
       "      <th></th>\n",
       "      <th>Preferred Cusine</th>\n",
       "      <th>avg_price_per_cuisine</th>\n",
       "      <th>total_orders_per_cuisine</th>\n",
       "    </tr>\n",
       "  </thead>\n",
       "  <tbody>\n",
       "    <tr>\n",
       "      <th>0</th>\n",
       "      <td>Multi</td>\n",
       "      <td>236.960289</td>\n",
       "      <td>1385</td>\n",
       "    </tr>\n",
       "    <tr>\n",
       "      <th>1</th>\n",
       "      <td>North Indian</td>\n",
       "      <td>220.965868</td>\n",
       "      <td>1377</td>\n",
       "    </tr>\n",
       "    <tr>\n",
       "      <th>2</th>\n",
       "      <td>South Indian</td>\n",
       "      <td>227.418182</td>\n",
       "      <td>1650</td>\n",
       "    </tr>\n",
       "  </tbody>\n",
       "</table>\n",
       "</div>"
      ],
      "text/plain": [
       "  Preferred Cusine  avg_price_per_cuisine  total_orders_per_cuisine\n",
       "0            Multi             236.960289                      1385\n",
       "1     North Indian             220.965868                      1377\n",
       "2     South Indian             227.418182                      1650"
      ]
     },
     "execution_count": 92,
     "metadata": {},
     "output_type": "execute_result"
    }
   ],
   "source": [
    "cuisine_features"
   ]
  },
  {
   "cell_type": "markdown",
   "id": "99bddfa6",
   "metadata": {},
   "source": [
    "# Merge created features to train_df\n",
    "#merge 'on' what you are grouping by in above feature level dataframes you have created"
   ]
  },
  {
   "cell_type": "code",
   "execution_count": 93,
   "id": "6999ff62",
   "metadata": {},
   "outputs": [],
   "source": [
    "train_df = train_df.merge(customer_features, on='customer_id', how='left')\n",
    "train_df = train_df.merge(customer_dish.rename(columns={'dish': 'fav_dish_per_customer'}), on='customer_id', how='left')\n",
    "train_df = train_df.merge(cuisine_features, on='Preferred Cusine', how='left')\n",
    "train_df = train_df.merge(cuisine_popular_dish, on='Preferred Cusine', how='left')"
   ]
  },
  {
   "cell_type": "code",
   "execution_count": 41,
   "id": "ac2ee110",
   "metadata": {},
   "outputs": [
    {
     "data": {
      "text/plain": [
       "Index(['_id', '', 'transaction_id', 'customer_id', 'Preferred Cusine', 'age',\n",
       "       'dish', 'Qty', 'price_for_1', 'number_of_stayers', 'check_in_date',\n",
       "       'check_out_date', 'order_time', 'booked_through_points', 'check_in_day',\n",
       "       'check_out_day', 'check_in_month', 'check_out_month', 'stay_duration',\n",
       "       'total_orders_per_customer', 'avg_spend_per_customer',\n",
       "       'fav_dish_per_customer', 'total_orders_per_cuisine',\n",
       "       'popular_dish_for_this_cuisine'],\n",
       "      dtype='object')"
      ]
     },
     "execution_count": 41,
     "metadata": {},
     "output_type": "execute_result"
    }
   ],
   "source": [
    "train_df.columns"
   ]
  },
  {
   "cell_type": "code",
   "execution_count": 94,
   "id": "b8a7f75f",
   "metadata": {},
   "outputs": [],
   "source": [
    "train_df.drop(['_id','transaction_id','customer_id','price_for_1',\n",
    "               'Qty','order_time','check_in_date','check_out_date'],axis=1,inplace=True)"
   ]
  },
  {
   "cell_type": "code",
   "execution_count": 95,
   "id": "761286f6",
   "metadata": {},
   "outputs": [
    {
     "name": "stderr",
     "output_type": "stream",
     "text": [
      "C:\\Users\\HARIS\\anaconda3\\lib\\site-packages\\sklearn\\preprocessing\\_encoders.py:828: FutureWarning: `sparse` was renamed to `sparse_output` in version 1.2 and will be removed in 1.4. `sparse_output` is ignored unless you leave `sparse` to its default value.\n",
      "  warnings.warn(\n"
     ]
    }
   ],
   "source": [
    "from sklearn.preprocessing import OneHotEncoder\n",
    "import pandas as pd\n",
    "\n",
    "# Select categorical columns for one-hot encoding\n",
    "categorical_cols = ['Preferred Cusine','fav_dish_per_customer','popular_dish_for_this_cuisine']\n",
    "\n",
    "# Initialize OneHotEncoder\n",
    "encoder = OneHotEncoder(sparse=False, handle_unknown='ignore')\n",
    "\n",
    "# Apply transformation\n",
    "encoded_array = encoder.fit_transform(train_df[categorical_cols])\n",
    "\n",
    "# Convert to DataFrame\n",
    "encoded_df = pd.DataFrame(encoded_array, columns=encoder.get_feature_names_out(categorical_cols))\n",
    "\n",
    "# Concatenate with the original DataFrame\n",
    "train_df = pd.concat([train_df.drop(columns=categorical_cols), encoded_df], axis=1)"
   ]
  },
  {
   "cell_type": "code",
   "execution_count": 96,
   "id": "caf2f6bd",
   "metadata": {},
   "outputs": [
    {
     "data": {
      "text/plain": [
       "Index(['', 'age', 'dish', 'number_of_stayers', 'booked_through_points',\n",
       "       'check_in_day', 'check_out_day', 'check_in_month', 'check_out_month',\n",
       "       'stay_duration', 'total_orders_per_customer', 'avg_spend_per_customer',\n",
       "       'avg_price_per_cuisine', 'total_orders_per_cuisine',\n",
       "       'Preferred Cusine_Multi', 'Preferred Cusine_North Indian',\n",
       "       'Preferred Cusine_South Indian', 'fav_dish_per_customer_Aloo Paratha',\n",
       "       'fav_dish_per_customer_Breakfast thali',\n",
       "       'fav_dish_per_customer_Chinese Noodles',\n",
       "       'fav_dish_per_customer_Chocolate Cake',\n",
       "       'fav_dish_per_customer_Filter Coffee', 'fav_dish_per_customer_Idli',\n",
       "       'fav_dish_per_customer_Masala Dosa',\n",
       "       'fav_dish_per_customer_North Indian Thali',\n",
       "       'fav_dish_per_customer_Roti Curry', 'fav_dish_per_customer_Utthappam',\n",
       "       'fav_dish_per_customer_nan', 'popular_dish_for_this_cuisine_Idli'],\n",
       "      dtype='object')"
      ]
     },
     "execution_count": 96,
     "metadata": {},
     "output_type": "execute_result"
    }
   ],
   "source": [
    "train_df.columns"
   ]
  },
  {
   "cell_type": "code",
   "execution_count": 97,
   "id": "ed25e2e1",
   "metadata": {},
   "outputs": [],
   "source": [
    "test_df = test_df.merge(customer_features, on='customer_id', how='left')\n",
    "test_df = test_df.merge(customer_dish.rename(columns={'dish': 'fav_dish_per_customer'}), on='customer_id', how='left')\n",
    "test_df = test_df.merge(cuisine_features, on='Preferred Cusine', how='left')\n",
    "test_df = test_df.merge(cuisine_popular_dish, on='Preferred Cusine', how='left')"
   ]
  },
  {
   "cell_type": "code",
   "execution_count": 98,
   "id": "8a4ed403",
   "metadata": {},
   "outputs": [],
   "source": [
    "test_df.drop(['_id','transaction_id','customer_id','price_for_1',\n",
    "               'Qty','order_time','check_in_date','check_out_date'],axis=1,inplace=True)"
   ]
  },
  {
   "cell_type": "code",
   "execution_count": 99,
   "id": "06acb724",
   "metadata": {},
   "outputs": [],
   "source": [
    "encoded_test = encoder.transform(test_df[categorical_cols])\n",
    "\n",
    "# Convert to DataFrame\n",
    "encoded_test_df = pd.DataFrame(encoded_test, columns=encoder.get_feature_names_out(categorical_cols))\n",
    "\n",
    "# Concatenate with test_df\n",
    "test_df = pd.concat([test_df.drop(columns=categorical_cols), encoded_test_df], axis=1)"
   ]
  },
  {
   "cell_type": "code",
   "execution_count": 100,
   "id": "00efde10",
   "metadata": {},
   "outputs": [
    {
     "data": {
      "text/html": [
       "<div>\n",
       "<style scoped>\n",
       "    .dataframe tbody tr th:only-of-type {\n",
       "        vertical-align: middle;\n",
       "    }\n",
       "\n",
       "    .dataframe tbody tr th {\n",
       "        vertical-align: top;\n",
       "    }\n",
       "\n",
       "    .dataframe thead th {\n",
       "        text-align: right;\n",
       "    }\n",
       "</style>\n",
       "<table border=\"1\" class=\"dataframe\">\n",
       "  <thead>\n",
       "    <tr style=\"text-align: right;\">\n",
       "      <th></th>\n",
       "      <th></th>\n",
       "      <th>age</th>\n",
       "      <th>dish</th>\n",
       "      <th>number_of_stayers</th>\n",
       "      <th>booked_through_points</th>\n",
       "      <th>check_in_day</th>\n",
       "      <th>check_out_day</th>\n",
       "      <th>check_in_month</th>\n",
       "      <th>check_out_month</th>\n",
       "      <th>stay_duration</th>\n",
       "      <th>...</th>\n",
       "      <th>fav_dish_per_customer_Chinese Noodles</th>\n",
       "      <th>fav_dish_per_customer_Chocolate Cake</th>\n",
       "      <th>fav_dish_per_customer_Filter Coffee</th>\n",
       "      <th>fav_dish_per_customer_Idli</th>\n",
       "      <th>fav_dish_per_customer_Masala Dosa</th>\n",
       "      <th>fav_dish_per_customer_North Indian Thali</th>\n",
       "      <th>fav_dish_per_customer_Roti Curry</th>\n",
       "      <th>fav_dish_per_customer_Utthappam</th>\n",
       "      <th>fav_dish_per_customer_nan</th>\n",
       "      <th>popular_dish_for_this_cuisine_Idli</th>\n",
       "    </tr>\n",
       "  </thead>\n",
       "  <tbody>\n",
       "    <tr>\n",
       "      <th>0</th>\n",
       "      <td>8</td>\n",
       "      <td>51</td>\n",
       "      <td>Masala Chai</td>\n",
       "      <td>1</td>\n",
       "      <td>0</td>\n",
       "      <td>4</td>\n",
       "      <td>6</td>\n",
       "      <td>12</td>\n",
       "      <td>12</td>\n",
       "      <td>2</td>\n",
       "      <td>...</td>\n",
       "      <td>0.0</td>\n",
       "      <td>0.0</td>\n",
       "      <td>0.0</td>\n",
       "      <td>0.0</td>\n",
       "      <td>0.0</td>\n",
       "      <td>0.0</td>\n",
       "      <td>0.0</td>\n",
       "      <td>0.0</td>\n",
       "      <td>1.0</td>\n",
       "      <td>1.0</td>\n",
       "    </tr>\n",
       "    <tr>\n",
       "      <th>1</th>\n",
       "      <td>15</td>\n",
       "      <td>43</td>\n",
       "      <td>South Indian Thali</td>\n",
       "      <td>1</td>\n",
       "      <td>1</td>\n",
       "      <td>6</td>\n",
       "      <td>1</td>\n",
       "      <td>12</td>\n",
       "      <td>12</td>\n",
       "      <td>2</td>\n",
       "      <td>...</td>\n",
       "      <td>0.0</td>\n",
       "      <td>0.0</td>\n",
       "      <td>0.0</td>\n",
       "      <td>0.0</td>\n",
       "      <td>0.0</td>\n",
       "      <td>0.0</td>\n",
       "      <td>0.0</td>\n",
       "      <td>0.0</td>\n",
       "      <td>1.0</td>\n",
       "      <td>1.0</td>\n",
       "    </tr>\n",
       "    <tr>\n",
       "      <th>2</th>\n",
       "      <td>26</td>\n",
       "      <td>30</td>\n",
       "      <td>Roti Curry</td>\n",
       "      <td>1</td>\n",
       "      <td>0</td>\n",
       "      <td>1</td>\n",
       "      <td>4</td>\n",
       "      <td>12</td>\n",
       "      <td>12</td>\n",
       "      <td>3</td>\n",
       "      <td>...</td>\n",
       "      <td>0.0</td>\n",
       "      <td>0.0</td>\n",
       "      <td>0.0</td>\n",
       "      <td>0.0</td>\n",
       "      <td>0.0</td>\n",
       "      <td>0.0</td>\n",
       "      <td>0.0</td>\n",
       "      <td>0.0</td>\n",
       "      <td>1.0</td>\n",
       "      <td>1.0</td>\n",
       "    </tr>\n",
       "    <tr>\n",
       "      <th>3</th>\n",
       "      <td>27</td>\n",
       "      <td>27</td>\n",
       "      <td>Filter Coffee</td>\n",
       "      <td>1</td>\n",
       "      <td>0</td>\n",
       "      <td>4</td>\n",
       "      <td>2</td>\n",
       "      <td>10</td>\n",
       "      <td>10</td>\n",
       "      <td>5</td>\n",
       "      <td>...</td>\n",
       "      <td>0.0</td>\n",
       "      <td>0.0</td>\n",
       "      <td>0.0</td>\n",
       "      <td>0.0</td>\n",
       "      <td>0.0</td>\n",
       "      <td>0.0</td>\n",
       "      <td>0.0</td>\n",
       "      <td>0.0</td>\n",
       "      <td>1.0</td>\n",
       "      <td>1.0</td>\n",
       "    </tr>\n",
       "    <tr>\n",
       "      <th>4</th>\n",
       "      <td>28</td>\n",
       "      <td>50</td>\n",
       "      <td>Filter Coffee</td>\n",
       "      <td>1</td>\n",
       "      <td>0</td>\n",
       "      <td>6</td>\n",
       "      <td>0</td>\n",
       "      <td>12</td>\n",
       "      <td>12</td>\n",
       "      <td>1</td>\n",
       "      <td>...</td>\n",
       "      <td>0.0</td>\n",
       "      <td>0.0</td>\n",
       "      <td>0.0</td>\n",
       "      <td>0.0</td>\n",
       "      <td>0.0</td>\n",
       "      <td>0.0</td>\n",
       "      <td>0.0</td>\n",
       "      <td>0.0</td>\n",
       "      <td>1.0</td>\n",
       "      <td>1.0</td>\n",
       "    </tr>\n",
       "    <tr>\n",
       "      <th>...</th>\n",
       "      <td>...</td>\n",
       "      <td>...</td>\n",
       "      <td>...</td>\n",
       "      <td>...</td>\n",
       "      <td>...</td>\n",
       "      <td>...</td>\n",
       "      <td>...</td>\n",
       "      <td>...</td>\n",
       "      <td>...</td>\n",
       "      <td>...</td>\n",
       "      <td>...</td>\n",
       "      <td>...</td>\n",
       "      <td>...</td>\n",
       "      <td>...</td>\n",
       "      <td>...</td>\n",
       "      <td>...</td>\n",
       "      <td>...</td>\n",
       "      <td>...</td>\n",
       "      <td>...</td>\n",
       "      <td>...</td>\n",
       "      <td>...</td>\n",
       "    </tr>\n",
       "    <tr>\n",
       "      <th>1605</th>\n",
       "      <td>9963</td>\n",
       "      <td>24</td>\n",
       "      <td>Filter Coffee</td>\n",
       "      <td>1</td>\n",
       "      <td>0</td>\n",
       "      <td>3</td>\n",
       "      <td>4</td>\n",
       "      <td>10</td>\n",
       "      <td>11</td>\n",
       "      <td>1</td>\n",
       "      <td>...</td>\n",
       "      <td>0.0</td>\n",
       "      <td>0.0</td>\n",
       "      <td>1.0</td>\n",
       "      <td>0.0</td>\n",
       "      <td>0.0</td>\n",
       "      <td>0.0</td>\n",
       "      <td>0.0</td>\n",
       "      <td>0.0</td>\n",
       "      <td>0.0</td>\n",
       "      <td>1.0</td>\n",
       "    </tr>\n",
       "    <tr>\n",
       "      <th>1606</th>\n",
       "      <td>9968</td>\n",
       "      <td>29</td>\n",
       "      <td>Filter Coffee</td>\n",
       "      <td>3</td>\n",
       "      <td>0</td>\n",
       "      <td>2</td>\n",
       "      <td>3</td>\n",
       "      <td>12</td>\n",
       "      <td>12</td>\n",
       "      <td>1</td>\n",
       "      <td>...</td>\n",
       "      <td>0.0</td>\n",
       "      <td>0.0</td>\n",
       "      <td>0.0</td>\n",
       "      <td>0.0</td>\n",
       "      <td>0.0</td>\n",
       "      <td>0.0</td>\n",
       "      <td>0.0</td>\n",
       "      <td>1.0</td>\n",
       "      <td>0.0</td>\n",
       "      <td>1.0</td>\n",
       "    </tr>\n",
       "    <tr>\n",
       "      <th>1607</th>\n",
       "      <td>9988</td>\n",
       "      <td>40</td>\n",
       "      <td>Masala Chai</td>\n",
       "      <td>1</td>\n",
       "      <td>0</td>\n",
       "      <td>1</td>\n",
       "      <td>2</td>\n",
       "      <td>10</td>\n",
       "      <td>10</td>\n",
       "      <td>1</td>\n",
       "      <td>...</td>\n",
       "      <td>0.0</td>\n",
       "      <td>0.0</td>\n",
       "      <td>0.0</td>\n",
       "      <td>0.0</td>\n",
       "      <td>0.0</td>\n",
       "      <td>0.0</td>\n",
       "      <td>0.0</td>\n",
       "      <td>0.0</td>\n",
       "      <td>0.0</td>\n",
       "      <td>1.0</td>\n",
       "    </tr>\n",
       "    <tr>\n",
       "      <th>1608</th>\n",
       "      <td>9994</td>\n",
       "      <td>24</td>\n",
       "      <td>Breakfast thali</td>\n",
       "      <td>1</td>\n",
       "      <td>0</td>\n",
       "      <td>2</td>\n",
       "      <td>3</td>\n",
       "      <td>12</td>\n",
       "      <td>12</td>\n",
       "      <td>1</td>\n",
       "      <td>...</td>\n",
       "      <td>0.0</td>\n",
       "      <td>0.0</td>\n",
       "      <td>1.0</td>\n",
       "      <td>0.0</td>\n",
       "      <td>0.0</td>\n",
       "      <td>0.0</td>\n",
       "      <td>0.0</td>\n",
       "      <td>0.0</td>\n",
       "      <td>0.0</td>\n",
       "      <td>1.0</td>\n",
       "    </tr>\n",
       "    <tr>\n",
       "      <th>1609</th>\n",
       "      <td>9995</td>\n",
       "      <td>30</td>\n",
       "      <td>Filter Coffee</td>\n",
       "      <td>1</td>\n",
       "      <td>0</td>\n",
       "      <td>2</td>\n",
       "      <td>3</td>\n",
       "      <td>10</td>\n",
       "      <td>10</td>\n",
       "      <td>1</td>\n",
       "      <td>...</td>\n",
       "      <td>0.0</td>\n",
       "      <td>0.0</td>\n",
       "      <td>0.0</td>\n",
       "      <td>0.0</td>\n",
       "      <td>0.0</td>\n",
       "      <td>0.0</td>\n",
       "      <td>0.0</td>\n",
       "      <td>1.0</td>\n",
       "      <td>0.0</td>\n",
       "      <td>1.0</td>\n",
       "    </tr>\n",
       "  </tbody>\n",
       "</table>\n",
       "<p>1610 rows × 29 columns</p>\n",
       "</div>"
      ],
      "text/plain": [
       "            age                dish  number_of_stayers  booked_through_points  \\\n",
       "0        8   51         Masala Chai                  1                      0   \n",
       "1       15   43  South Indian Thali                  1                      1   \n",
       "2       26   30          Roti Curry                  1                      0   \n",
       "3       27   27       Filter Coffee                  1                      0   \n",
       "4       28   50       Filter Coffee                  1                      0   \n",
       "...    ...  ...                 ...                ...                    ...   \n",
       "1605  9963   24       Filter Coffee                  1                      0   \n",
       "1606  9968   29       Filter Coffee                  3                      0   \n",
       "1607  9988   40         Masala Chai                  1                      0   \n",
       "1608  9994   24     Breakfast thali                  1                      0   \n",
       "1609  9995   30       Filter Coffee                  1                      0   \n",
       "\n",
       "      check_in_day  check_out_day  check_in_month  check_out_month  \\\n",
       "0                4              6              12               12   \n",
       "1                6              1              12               12   \n",
       "2                1              4              12               12   \n",
       "3                4              2              10               10   \n",
       "4                6              0              12               12   \n",
       "...            ...            ...             ...              ...   \n",
       "1605             3              4              10               11   \n",
       "1606             2              3              12               12   \n",
       "1607             1              2              10               10   \n",
       "1608             2              3              12               12   \n",
       "1609             2              3              10               10   \n",
       "\n",
       "      stay_duration  ...  fav_dish_per_customer_Chinese Noodles  \\\n",
       "0                 2  ...                                    0.0   \n",
       "1                 2  ...                                    0.0   \n",
       "2                 3  ...                                    0.0   \n",
       "3                 5  ...                                    0.0   \n",
       "4                 1  ...                                    0.0   \n",
       "...             ...  ...                                    ...   \n",
       "1605              1  ...                                    0.0   \n",
       "1606              1  ...                                    0.0   \n",
       "1607              1  ...                                    0.0   \n",
       "1608              1  ...                                    0.0   \n",
       "1609              1  ...                                    0.0   \n",
       "\n",
       "      fav_dish_per_customer_Chocolate Cake  \\\n",
       "0                                      0.0   \n",
       "1                                      0.0   \n",
       "2                                      0.0   \n",
       "3                                      0.0   \n",
       "4                                      0.0   \n",
       "...                                    ...   \n",
       "1605                                   0.0   \n",
       "1606                                   0.0   \n",
       "1607                                   0.0   \n",
       "1608                                   0.0   \n",
       "1609                                   0.0   \n",
       "\n",
       "      fav_dish_per_customer_Filter Coffee  fav_dish_per_customer_Idli  \\\n",
       "0                                     0.0                         0.0   \n",
       "1                                     0.0                         0.0   \n",
       "2                                     0.0                         0.0   \n",
       "3                                     0.0                         0.0   \n",
       "4                                     0.0                         0.0   \n",
       "...                                   ...                         ...   \n",
       "1605                                  1.0                         0.0   \n",
       "1606                                  0.0                         0.0   \n",
       "1607                                  0.0                         0.0   \n",
       "1608                                  1.0                         0.0   \n",
       "1609                                  0.0                         0.0   \n",
       "\n",
       "      fav_dish_per_customer_Masala Dosa  \\\n",
       "0                                   0.0   \n",
       "1                                   0.0   \n",
       "2                                   0.0   \n",
       "3                                   0.0   \n",
       "4                                   0.0   \n",
       "...                                 ...   \n",
       "1605                                0.0   \n",
       "1606                                0.0   \n",
       "1607                                0.0   \n",
       "1608                                0.0   \n",
       "1609                                0.0   \n",
       "\n",
       "      fav_dish_per_customer_North Indian Thali  \\\n",
       "0                                          0.0   \n",
       "1                                          0.0   \n",
       "2                                          0.0   \n",
       "3                                          0.0   \n",
       "4                                          0.0   \n",
       "...                                        ...   \n",
       "1605                                       0.0   \n",
       "1606                                       0.0   \n",
       "1607                                       0.0   \n",
       "1608                                       0.0   \n",
       "1609                                       0.0   \n",
       "\n",
       "      fav_dish_per_customer_Roti Curry  fav_dish_per_customer_Utthappam  \\\n",
       "0                                  0.0                              0.0   \n",
       "1                                  0.0                              0.0   \n",
       "2                                  0.0                              0.0   \n",
       "3                                  0.0                              0.0   \n",
       "4                                  0.0                              0.0   \n",
       "...                                ...                              ...   \n",
       "1605                               0.0                              0.0   \n",
       "1606                               0.0                              1.0   \n",
       "1607                               0.0                              0.0   \n",
       "1608                               0.0                              0.0   \n",
       "1609                               0.0                              1.0   \n",
       "\n",
       "      fav_dish_per_customer_nan  popular_dish_for_this_cuisine_Idli  \n",
       "0                           1.0                                 1.0  \n",
       "1                           1.0                                 1.0  \n",
       "2                           1.0                                 1.0  \n",
       "3                           1.0                                 1.0  \n",
       "4                           1.0                                 1.0  \n",
       "...                         ...                                 ...  \n",
       "1605                        0.0                                 1.0  \n",
       "1606                        0.0                                 1.0  \n",
       "1607                        0.0                                 1.0  \n",
       "1608                        0.0                                 1.0  \n",
       "1609                        0.0                                 1.0  \n",
       "\n",
       "[1610 rows x 29 columns]"
      ]
     },
     "execution_count": 100,
     "metadata": {},
     "output_type": "execute_result"
    }
   ],
   "source": [
    "test_df"
   ]
  },
  {
   "cell_type": "code",
   "execution_count": 101,
   "id": "86becf2c",
   "metadata": {},
   "outputs": [],
   "source": [
    "train_df = train_df.dropna(subset=['dish'])"
   ]
  },
  {
   "cell_type": "code",
   "execution_count": 102,
   "id": "0db03f20",
   "metadata": {},
   "outputs": [],
   "source": [
    "# Encode the target column 'dish' using LabelEncoder\n",
    "from sklearn.preprocessing import LabelEncoder\n",
    "\n",
    "label_encoder = LabelEncoder()\n",
    "train_df['dish'] = label_encoder.fit_transform(train_df['dish'])\n",
    "\n",
    "# Split into features (X) and target (y)\n",
    "X_train = train_df.drop(columns=['dish'])  # Features\n",
    "y_train = train_df['dish']"
   ]
  },
  {
   "cell_type": "code",
   "execution_count": 103,
   "id": "026e2a93",
   "metadata": {},
   "outputs": [],
   "source": [
    "test_df = test_df.dropna(subset=['dish'])\n",
    "\n",
    "# Encode 'dish' using the SAME LabelEncoder from training\n",
    "test_df['dish'] = label_encoder.transform(test_df['dish']) "
   ]
  },
  {
   "cell_type": "code",
   "execution_count": 104,
   "id": "e518a965",
   "metadata": {},
   "outputs": [],
   "source": [
    "X_test = test_df.drop(columns=['dish'])  # Features\n",
    "y_test = test_df['dish']"
   ]
  },
  {
   "cell_type": "code",
   "execution_count": 115,
   "id": "ac9f05f4",
   "metadata": {},
   "outputs": [],
   "source": [
    "import xgboost as xgb\n",
    "\n",
    "xgb_model = xgb.XGBClassifier(\n",
    "       objective=\"multi:softmax\",\n",
    "    eval_metric=\"mlogloss\",\n",
    "    learning_rate=0.05,\n",
    "    max_depth=3,\n",
    "    n_estimators=200\n",
    ")\n",
    "xgb_model.fit(X_train, y_train)\n",
    "\n",
    "\n",
    "# Make predictions on the test set\n",
    "y_pred = xgb_model.predict(X_test)"
   ]
  },
  {
   "cell_type": "code",
   "execution_count": 116,
   "id": "56a58327",
   "metadata": {},
   "outputs": [],
   "source": [
    "# Model Evaluation\n",
    "from sklearn.metrics import accuracy_score, log_loss\n",
    "\n",
    "y_pred = xgb_model.predict(X_test)\n",
    "accuracy = accuracy_score(y_test, y_pred)\n",
    "y_pred_prob = xgb_model.predict_proba(X_test)\n",
    "logloss = log_loss(y_test, y_pred_prob)"
   ]
  },
  {
   "cell_type": "code",
   "execution_count": 117,
   "id": "f30e61c8",
   "metadata": {},
   "outputs": [],
   "source": [
    "# Feature Importance\n",
    "feature_importance = xgb_model.feature_importances_\n",
    "importance_df = pd.DataFrame({'Feature': X_train.columns, 'Importance': feature_importance})\n",
    "importance_df = importance_df.sort_values(by='Importance', ascending=False)"
   ]
  },
  {
   "cell_type": "code",
   "execution_count": 118,
   "id": "7d27b6b1",
   "metadata": {},
   "outputs": [
    {
     "data": {
      "image/png": "[encoded data removed]",
      "text/plain": [
       "<Figure size 640x480 with 1 Axes>"
      ]
     },
     "metadata": {},
     "output_type": "display_data"
    }
   ],
   "source": [
    "# Plot Feature Importance\n",
    "import matplotlib.pyplot as plt\n",
    "\n",
    "xgb.plot_importance(xgb_model, max_num_features=10)\n",
    "plt.show()"
   ]
  },
  {
   "cell_type": "code",
   "execution_count": 119,
   "id": "506882c2",
   "metadata": {},
   "outputs": [
    {
     "name": "stdout",
     "output_type": "stream",
     "text": [
      "Accuracy: 0.1559\n"
     ]
    }
   ],
   "source": [
    "# Print evaluation metrics\n",
    "print(f'Accuracy: {accuracy:.4f}')"
   ]
  },
  {
   "cell_type": "code",
   "execution_count": null,
   "id": "92e43f15",
   "metadata": {},
   "outputs": [],
   "source": []
  },
  {
   "cell_type": "code",
   "execution_count": null,
   "id": "5b66bd63",
   "metadata": {},
   "outputs": [],
   "source": []
  }
 ],
 "metadata": {
  "kernelspec": {
   "display_name": "Python 3 (ipykernel)",
   "language": "python",
   "name": "python3"
  },
  "language_info": {
   "codemirror_mode": {
    "name": "ipython",
    "version": 3
   },
   "file_extension": ".py",
   "mimetype": "text/x-python",
   "name": "python",
   "nbconvert_exporter": "python",
   "pygments_lexer": "ipython3",
   "version": "3.10.9"
  }
 },
 "nbformat": 4,
 "nbformat_minor": 5
}
